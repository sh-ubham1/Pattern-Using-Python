{
 "cells": [
  {
   "cell_type": "code",
   "execution_count": 4,
   "metadata": {},
   "outputs": [
    {
     "name": "stdout",
     "output_type": "stream",
     "text": [
      "*\n",
      "*\n",
      "*\n",
      "*\n",
      "*\n",
      "*\n",
      "*\n",
      "*\n",
      "*\n",
      "*\n"
     ]
    }
   ],
   "source": [
    "def pypart(n):\n",
    "    myList = []\n",
    "    for i in range(1,n+1):\n",
    "        myList.append(\"*\"*1)\n",
    "        print(\"\\n\".join(myList))\n",
    "n = 4\n",
    "pypart(n)"
   ]
  },
  {
   "cell_type": "code",
   "execution_count": 12,
   "metadata": {},
   "outputs": [],
   "source": [
    "def pypart(n):\n",
    "    myList = []\n",
    "    for i in range(1,n):\n",
    "        myList.append(\"*\")\n",
    "        print(\"\\n\".join(myList))\n",
    "n = 1\n",
    "pypart(n)"
   ]
  },
  {
   "cell_type": "code",
   "execution_count": 16,
   "metadata": {},
   "outputs": [
    {
     "name": "stdout",
     "output_type": "stream",
     "text": [
      "*\n"
     ]
    }
   ],
   "source": [
    "def pypart(n):\n",
    "    myList = []\n",
    "    for i in range(0,n):\n",
    "        myList.append(\"*\"*1)\n",
    "        print(\"\\n\".join(myList))\n",
    "n = 1\n",
    "pypart(n)"
   ]
  },
  {
   "cell_type": "code",
   "execution_count": 24,
   "metadata": {},
   "outputs": [
    {
     "name": "stdout",
     "output_type": "stream",
     "text": [
      "*\n",
      "***\n",
      "*****\n",
      "*******\n",
      "*********\n",
      "*******\n",
      "*****\n",
      "***\n",
      "*\n",
      "\n"
     ]
    }
   ],
   "source": [
    "n = 5\n",
    "for i in range(n):\n",
    "    print(''*(n-i-1)+'*'*((2*i)+1))\n",
    "for i in range(n):\n",
    "    print(''*(i+1) + '*'*((2*((n-1)-i))-1))"
   ]
  },
  {
   "cell_type": "code",
   "execution_count": 6,
   "metadata": {},
   "outputs": [
    {
     "name": "stdout",
     "output_type": "stream",
     "text": [
      "*\n",
      "***\n",
      "*****\n",
      "*******\n",
      "*********\n",
      "*******\n",
      "*****\n",
      "***\n",
      "*\n",
      "\n"
     ]
    }
   ],
   "source": [
    "n = 5\n",
    "for i in range(n):\n",
    "    print(''*(n-i-1)+'*'*((2*i)+1))\n",
    "for i in range(n):\n",
    "    print(''*(i+1) + '*'*((2*((n-1)-i))-1))"
   ]
  },
  {
   "cell_type": "code",
   "execution_count": 32,
   "metadata": {},
   "outputs": [
    {
     "name": "stderr",
     "output_type": "stream",
     "text": [
      "<>:3: SyntaxWarning: 'str' object is not callable; perhaps you missed a comma?\n",
      "<>:3: SyntaxWarning: 'str' object is not callable; perhaps you missed a comma?\n",
      "<ipython-input-32-12c1cf4da69f>:3: SyntaxWarning: 'str' object is not callable; perhaps you missed a comma?\n",
      "  print(''(rows-i-1)+'*'*(i+1))\n"
     ]
    }
   ],
   "source": [
    "def pypart(rows):\n",
    "    for i in range(rows):\n",
    "        print(''(rows-i-1)+'*'*(i+1))\n",
    "    for j in range(rows-1,0,-1):\n",
    "        print(''*(rows-j)+'*'*(j))"
   ]
  },
  {
   "cell_type": "code",
   "execution_count": 37,
   "metadata": {},
   "outputs": [
    {
     "name": "stdout",
     "output_type": "stream",
     "text": [
      "*\n",
      "**\n",
      "***\n",
      "***\n",
      "*\n"
     ]
    }
   ],
   "source": [
    "for row in range(5):\n",
    "    for col in range(5):\n",
    "        if row+col==3 or col-row==3 or row-col==2 or row+col==6:\n",
    "            print(\"*\",end=\"\")\n",
    "        else:\n",
    "            print(end=\"\")\n",
    "    print()"
   ]
  },
  {
   "cell_type": "code",
   "execution_count": 41,
   "metadata": {},
   "outputs": [
    {
     "name": "stdin",
     "output_type": "stream",
     "text": [
      "Enter the number of rows: 4\n"
     ]
    },
    {
     "name": "stdout",
     "output_type": "stream",
     "text": [
      "****\n",
      "***\n",
      "**\n",
      "*\n"
     ]
    }
   ],
   "source": [
    "n = int(input(\"Enter the number of rows:\"))\n",
    "for i in range(n,0,-1):\n",
    "    for j in range(i,0,-1):\n",
    "        print(\"*\",end=\"\")\n",
    "    for j in range(2*(n-i)):\n",
    "        print(\"\",end=\"\")\n",
    "    print()"
   ]
  },
  {
   "cell_type": "code",
   "execution_count": 43,
   "metadata": {},
   "outputs": [
    {
     "ename": "SyntaxError",
     "evalue": "invalid syntax (<ipython-input-43-63b9d9b5761c>, line 2)",
     "output_type": "error",
     "traceback": [
      "\u001b[1;36m  File \u001b[1;32m\"<ipython-input-43-63b9d9b5761c>\"\u001b[1;36m, line \u001b[1;32m2\u001b[0m\n\u001b[1;33m    for(int i=1,i<=n,i++):\u001b[0m\n\u001b[1;37m            ^\u001b[0m\n\u001b[1;31mSyntaxError\u001b[0m\u001b[1;31m:\u001b[0m invalid syntax\n"
     ]
    }
   ],
   "source": [
    "n = 5\n",
    "for(int i=1,i<=n,i++):\n",
    "    print(\"\")\n",
    "for(int j=1,j<=i,j++):\n",
    "    print(\"*\")\n",
    "for(int j=1,j<=i,j++):\n",
    "    print(\"*\")\n"
   ]
  },
  {
   "cell_type": "code",
   "execution_count": 55,
   "metadata": {},
   "outputs": [
    {
     "name": "stdin",
     "output_type": "stream",
     "text": [
      "enter number 5\n"
     ]
    },
    {
     "name": "stdout",
     "output_type": "stream",
     "text": [
      "    *\n",
      "    ***\n",
      "    *****\n",
      "    *******\n"
     ]
    }
   ],
   "source": [
    "n = int(input(\"enter number\"))\n",
    "for i in range(n-1):\n",
    "    print((n-1)*' '+(2*i+1)*'*')\n",
    "for i in range(n-1,-1,-1):\n",
    "    print((n-1)*' '+(2*i+1)*'*')"
   ]
  },
  {
   "cell_type": "code",
   "execution_count": 2,
   "metadata": {},
   "outputs": [
    {
     "name": "stdout",
     "output_type": "stream",
     "text": [
      "*****\n",
      "*****\n",
      "*****\n",
      "*****\n",
      "*****\n"
     ]
    }
   ],
   "source": [
    "##*****\n",
    "#*****\n",
    "#*****\n",
    "#*****\n",
    "#*****\n",
    "n=5\n",
    "for i in range(1,n+1):\n",
    "    print(\"*\"*n)"
   ]
  },
  {
   "cell_type": "code",
   "execution_count": 3,
   "metadata": {},
   "outputs": [
    {
     "name": "stdin",
     "output_type": "stream",
     "text": [
      " 10\n"
     ]
    },
    {
     "name": "stdout",
     "output_type": "stream",
     "text": [
      "**********\n",
      "**********\n",
      "**********\n",
      "**********\n",
      "**********\n",
      "**********\n",
      "**********\n",
      "**********\n",
      "**********\n",
      "**********\n"
     ]
    }
   ],
   "source": [
    "n=int(input())\n",
    "for i in range(1,n+1):\n",
    "    print(\"*\"*n)"
   ]
  },
  {
   "cell_type": "code",
   "execution_count": 4,
   "metadata": {},
   "outputs": [
    {
     "name": "stdin",
     "output_type": "stream",
     "text": [
      " 5\n"
     ]
    },
    {
     "name": "stdout",
     "output_type": "stream",
     "text": [
      "0\n",
      "1\n",
      "2\n",
      "3\n",
      "4\n"
     ]
    }
   ],
   "source": [
    "n=int(input())\n",
    "for i in range(n):\n",
    "    print(i)"
   ]
  },
  {
   "cell_type": "code",
   "execution_count": 6,
   "metadata": {},
   "outputs": [
    {
     "name": "stdin",
     "output_type": "stream",
     "text": [
      " 5\n"
     ]
    },
    {
     "name": "stdout",
     "output_type": "stream",
     "text": [
      "0 \n",
      "1 *\n",
      "2 **\n",
      "3 ***\n",
      "4 ****\n"
     ]
    }
   ],
   "source": [
    "n=int(input())\n",
    "for i in range(n):\n",
    "    print(i,'*'*i)"
   ]
  },
  {
   "cell_type": "code",
   "execution_count": 7,
   "metadata": {},
   "outputs": [
    {
     "name": "stdin",
     "output_type": "stream",
     "text": [
      " 5\n"
     ]
    },
    {
     "name": "stdout",
     "output_type": "stream",
     "text": [
      "1 *\n",
      "2 **\n",
      "3 ***\n",
      "4 ****\n",
      "5 *****\n"
     ]
    }
   ],
   "source": [
    "n=int(input())\n",
    "for i in range(1,n+1):\n",
    "    print(i,'*'*i)"
   ]
  },
  {
   "cell_type": "code",
   "execution_count": 8,
   "metadata": {},
   "outputs": [
    {
     "name": "stdin",
     "output_type": "stream",
     "text": [
      " 5\n"
     ]
    },
    {
     "name": "stdout",
     "output_type": "stream",
     "text": [
      "1\n",
      "2\n",
      "3\n",
      "4\n",
      "5\n"
     ]
    }
   ],
   "source": [
    "n=int(input())\n",
    "for i in range(1,n+1):\n",
    "    print(i)"
   ]
  },
  {
   "cell_type": "code",
   "execution_count": 9,
   "metadata": {},
   "outputs": [
    {
     "name": "stdin",
     "output_type": "stream",
     "text": [
      " 5\n"
     ]
    },
    {
     "name": "stdout",
     "output_type": "stream",
     "text": [
      "*\n",
      "**\n",
      "***\n",
      "****\n",
      "*****\n"
     ]
    }
   ],
   "source": [
    "n=int(input())\n",
    "for i in range(1,n+1):\n",
    "    print('*'*i)"
   ]
  },
  {
   "cell_type": "code",
   "execution_count": 11,
   "metadata": {},
   "outputs": [
    {
     "name": "stdin",
     "output_type": "stream",
     "text": [
      " 5\n"
     ]
    },
    {
     "name": "stdout",
     "output_type": "stream",
     "text": [
      "*****\n",
      "****\n",
      "***\n",
      "**\n",
      "*\n",
      "\n"
     ]
    }
   ],
   "source": [
    "n=int(input())\n",
    "for i in range(n,-1,-1):\n",
    "    print('*'*i)"
   ]
  },
  {
   "cell_type": "code",
   "execution_count": 12,
   "metadata": {},
   "outputs": [
    {
     "name": "stdin",
     "output_type": "stream",
     "text": [
      " 5\n"
     ]
    },
    {
     "name": "stdout",
     "output_type": "stream",
     "text": [
      "*****\n",
      "****\n",
      "***\n",
      "**\n",
      "*\n"
     ]
    }
   ],
   "source": [
    "n=int(input())\n",
    "for i in range(n,0,-1):\n",
    "    print('*'*i)"
   ]
  },
  {
   "cell_type": "code",
   "execution_count": 13,
   "metadata": {},
   "outputs": [
    {
     "name": "stdin",
     "output_type": "stream",
     "text": [
      " 5\n"
     ]
    },
    {
     "name": "stdout",
     "output_type": "stream",
     "text": [
      "5\n",
      "4\n",
      "3\n",
      "2\n",
      "1\n"
     ]
    }
   ],
   "source": [
    "n=int(input())\n",
    "for i in range(n,0,-1):\n",
    "    print(i)"
   ]
  },
  {
   "cell_type": "code",
   "execution_count": 16,
   "metadata": {},
   "outputs": [
    {
     "name": "stdin",
     "output_type": "stream",
     "text": [
      " 5\n"
     ]
    },
    {
     "name": "stdout",
     "output_type": "stream",
     "text": [
      "*****\n",
      "****\n",
      "***\n",
      "**\n",
      "*\n"
     ]
    }
   ],
   "source": [
    "n=int(input())\n",
    "for i in range(n,0,-1):\n",
    "    print('*'*i)"
   ]
  },
  {
   "cell_type": "code",
   "execution_count": 17,
   "metadata": {},
   "outputs": [
    {
     "name": "stdout",
     "output_type": "stream",
     "text": [
      " *\n",
      " **\n",
      " ***\n",
      " ****\n",
      " *****\n"
     ]
    }
   ],
   "source": [
    "n=5\n",
    "for i in range(1,n+1):\n",
    "    print(''*(n-1),'*'*i)"
   ]
  },
  {
   "cell_type": "code",
   "execution_count": 19,
   "metadata": {},
   "outputs": [
    {
     "name": "stdout",
     "output_type": "stream",
     "text": [
      "*\n",
      "**\n",
      "***\n",
      "****\n",
      "*****\n"
     ]
    }
   ],
   "source": [
    "n=5\n",
    "for i in range(1,n+1):\n",
    "    print(''*(n-i),end='*'*i)\n",
    "    print()"
   ]
  },
  {
   "cell_type": "code",
   "execution_count": 20,
   "metadata": {},
   "outputs": [
    {
     "name": "stdout",
     "output_type": "stream",
     "text": [
      "*\n",
      "**\n",
      "***\n",
      "****\n",
      "*****\n",
      "******\n",
      "*******\n",
      "********\n",
      "*********\n",
      "**********\n"
     ]
    }
   ],
   "source": [
    "n=10\n",
    "for i in range(1,n+1):\n",
    "    print(''*(n-i),end='*'*i)\n",
    "    print()"
   ]
  },
  {
   "cell_type": "code",
   "execution_count": 3,
   "metadata": {},
   "outputs": [
    {
     "name": "stdout",
     "output_type": "stream",
     "text": [
      "***********\n",
      "**********\n",
      "*********\n",
      "********\n",
      "*******\n",
      "******\n",
      "*****\n",
      "****\n",
      "***\n",
      "**\n",
      "*\n"
     ]
    }
   ],
   "source": [
    "n=10\n",
    "for i in range(n+1,0,-1):\n",
    "    print(''*(n-i),end='*'*i)\n",
    "    print()#reverse the star"
   ]
  },
  {
   "cell_type": "code",
   "execution_count": 6,
   "metadata": {},
   "outputs": [
    {
     "name": "stdout",
     "output_type": "stream",
     "text": [
      "**********\n"
     ]
    }
   ],
   "source": [
    "n=10\n",
    "for i in range(1,n+1):\n",
    "    if i==(n//2+1):#horizontal \n",
    "        print('*'*n)"
   ]
  },
  {
   "cell_type": "code",
   "execution_count": 9,
   "metadata": {},
   "outputs": [
    {
     "name": "stdout",
     "output_type": "stream",
     "text": [
      "*\n",
      "*\n",
      "*****\n",
      "*\n",
      "*\n"
     ]
    }
   ],
   "source": [
    "n=5\n",
    "for i in range(1,n+1):\n",
    "    if i==(n//2+1):\n",
    "        print('*'*n)\n",
    "    else:\n",
    "        print(''*(n//2),end='*')\n",
    "        print()"
   ]
  },
  {
   "cell_type": "code",
   "execution_count": 14,
   "metadata": {},
   "outputs": [
    {
     "name": "stdout",
     "output_type": "stream",
     "text": [
      "*1\n",
      "*2\n",
      "*****\n",
      "*4\n",
      "*5\n"
     ]
    }
   ],
   "source": [
    "n=5\n",
    "for i in range(1,n+1):\n",
    "    if i == (n//2+1):\n",
    "        print('*'*n)\n",
    "    else:\n",
    "        print(''*(n//2),end='*')\n",
    "        print(i)"
   ]
  },
  {
   "cell_type": "code",
   "execution_count": 16,
   "metadata": {},
   "outputs": [
    {
     "name": "stdout",
     "output_type": "stream",
     "text": [
      " *\n",
      "\n",
      " *\n",
      "\n",
      "*****\n",
      " *\n",
      "\n",
      " *\n",
      "\n"
     ]
    }
   ],
   "source": [
    "n=5\n",
    "for i in range(1,n+1):\n",
    "    if i==(n//2+1):\n",
    "        print('*'*n)\n",
    "    else:\n",
    "        print(''*((n//2)-1),'*')\n",
    "        print()"
   ]
  },
  {
   "cell_type": "code",
   "execution_count": 4,
   "metadata": {},
   "outputs": [
    {
     "name": "stdout",
     "output_type": "stream",
     "text": [
      "\n",
      "1\n",
      "22\n",
      "333\n",
      "4444\n",
      "55555\n"
     ]
    }
   ],
   "source": [
    "rows = 6\n",
    "\n",
    "for num in range(rows):\n",
    "\n",
    "    for i in range(num):\n",
    "\n",
    "        print(num, end=\"\") # print number\n",
    "\n",
    "    # line after each row to display pattern correctly\n",
    "\n",
    "    print(\"\")"
   ]
  },
  {
   "cell_type": "code",
   "execution_count": 5,
   "metadata": {},
   "outputs": [
    {
     "name": "stdout",
     "output_type": "stream",
     "text": [
      "11111\n",
      "2222\n",
      "333\n",
      "44\n",
      "5\n"
     ]
    }
   ],
   "source": [
    "rows = 5\n",
    "\n",
    "b = 0\n",
    "\n",
    "for i in range(rows, 0, -1):\n",
    "\n",
    "    b += 1\n",
    "\n",
    "    for j in range(1, i + 1):\n",
    "\n",
    "        print(b, end='')\n",
    "\n",
    "    print('\\r')"
   ]
  },
  {
   "cell_type": "code",
   "execution_count": 4,
   "metadata": {},
   "outputs": [
    {
     "name": "stdout",
     "output_type": "stream",
     "text": [
      "*\n",
      "\n",
      "\n",
      "*\n",
      "\n",
      "\n",
      "*\n",
      "\n",
      "\n",
      "*\n",
      "\n",
      "\n",
      "*\n",
      "\n",
      "\n",
      "*\n",
      "\n",
      "\n",
      "*\n",
      "\n",
      "\n",
      "*\n",
      "\n",
      "\n",
      "*\n",
      "\n",
      "\n",
      "*\n",
      "\n",
      "\n",
      "*\n",
      "\n",
      "\n",
      "*\n",
      "\n",
      "\n",
      "*\n",
      "\n",
      "\n",
      "*\n",
      "\n",
      "\n",
      "*\n",
      "\n",
      "\n"
     ]
    }
   ],
   "source": [
    "rows = 5\n",
    "\n",
    "for i in range(0, rows):\n",
    "\n",
    "    for j in range(0, i + 1):\n",
    "\n",
    "        print(\"*\")\n",
    "        print('\\n')#yramid Pattern of Stars"
   ]
  },
  {
   "cell_type": "code",
   "execution_count": 6,
   "metadata": {},
   "outputs": [
    {
     "name": "stdout",
     "output_type": "stream",
     "text": [
      "        ******\n",
      "         *****\n",
      "          ****\n",
      "           ***\n",
      "            **\n",
      "             *\n"
     ]
    }
   ],
   "source": [
    "rows = 5\n",
    "\n",
    "k = 2 * rows-2\n",
    "\n",
    "for i in range(rows, -1, -1):\n",
    "\n",
    "    for j in range(k, 0, -1):\n",
    "\n",
    "        print(end=\" \")\n",
    "\n",
    "    k = k + 1\n",
    "\n",
    "    for j in range(0, i + 1):\n",
    "\n",
    "        print(\"*\", end=\"\")\n",
    "\n",
    "    print(\"\")#Downward Triangle Pattern of Stars"
   ]
  },
  {
   "cell_type": "code",
   "execution_count": 10,
   "metadata": {},
   "outputs": [
    {
     "name": "stdout",
     "output_type": "stream",
     "text": [
      "Print equilateral triangle Pyramid using stars \n",
      "            *\n",
      "           **\n",
      "          ***\n",
      "         ****\n",
      "        *****\n",
      "       ******\n",
      "      *******\n"
     ]
    }
   ],
   "source": [
    "print(\"Print equilateral triangle Pyramid using stars \")\n",
    "\n",
    "size = 7\n",
    "\n",
    "m = (2 * size)-2\n",
    "\n",
    "for i in range(0, size):\n",
    "\n",
    "    for j in range(0, m):\n",
    "\n",
    "        print(end=\" \")\n",
    "\n",
    "    m = m-1 # decrementing m after each loop\n",
    "\n",
    "    for j in range(0, i + 1):\n",
    "\n",
    "        # printing full Triangle pyramid using stars\n",
    "\n",
    "        print(\"*\", end='')\n",
    "#quilateral Triangle with Stars (Asterisk Symbol)\n",
    "    print(\"\")"
   ]
  },
  {
   "cell_type": "code",
   "execution_count": 13,
   "metadata": {},
   "outputs": [
    {
     "name": "stdout",
     "output_type": "stream",
     "text": [
      "     1\n",
      "    12\n",
      "   123\n",
      "  1234\n",
      " 12345\n"
     ]
    }
   ],
   "source": [
    "rows = 6\n",
    "\n",
    "for row in range(1, rows):\n",
    "\n",
    "    num = 1\n",
    "\n",
    "    for j in range(rows, 0, -1):\n",
    "\n",
    "        if j > row:\n",
    "\n",
    "            print(\" \", end='')\n",
    "\n",
    "        else:\n",
    "\n",
    "            print(num, end='')\n",
    "\n",
    "            num += 1\n",
    "\n",
    "    print(\"\")#Mirrored Pyramid (Right-angled Triangle) Pattern of Numbers"
   ]
  },
  {
   "cell_type": "code",
   "execution_count": 35,
   "metadata": {},
   "outputs": [
    {
     "name": "stdout",
     "output_type": "stream",
     "text": [
      "1\n",
      "33\n",
      "555\n",
      "7777\n",
      "99999\n"
     ]
    }
   ],
   "source": [
    "#Pyramid Pattern of Alternate Numbers\n",
    "rows = 5\n",
    "\n",
    "i = 1\n",
    "\n",
    "while i <= rows:\n",
    "\n",
    "    j = 1\n",
    "\n",
    "    while j <= i:\n",
    "\n",
    "        print((i * 2 -1), end=\"\")\n",
    "\n",
    "        j = j + 1\n",
    "\n",
    "    i = i + 1\n",
    "\n",
    "    print()"
   ]
  },
  {
   "cell_type": "code",
   "execution_count": 33,
   "metadata": {},
   "outputs": [
    {
     "name": "stdout",
     "output_type": "stream",
     "text": [
      "0\n",
      "01\n",
      "024\n",
      "0369\n",
      "0481216\n",
      "0510152025\n",
      "061218243036\n"
     ]
    }
   ],
   "source": [
    "#Pyramid of Horizontal Tables\n",
    "rows = 7\n",
    "\n",
    "for i in range(0, rows):\n",
    "\n",
    "    for j in range(0, i + 1):\n",
    "\n",
    "        print(i * j, end='')\n",
    "\n",
    "    print()"
   ]
  },
  {
   "cell_type": "code",
   "execution_count": 32,
   "metadata": {},
   "outputs": [
    {
     "name": "stdout",
     "output_type": "stream",
     "text": [
      "10\n",
      "108\n",
      "1086\n",
      "10864\n",
      "108642\n"
     ]
    }
   ],
   "source": [
    "rows = 5\n",
    "\n",
    "LastEvenNumber = 2 * rows\n",
    "\n",
    "evenNumber = LastEvenNumber\n",
    "\n",
    "for i in range(1, rows+1):\n",
    "\n",
    "    evenNumber = LastEvenNumber\n",
    "\n",
    "    for j in range(i):\n",
    "\n",
    "        print(evenNumber, end='')\n",
    "\n",
    "        evenNumber -= 2\n",
    "\n",
    "    print(\"\\r\")#Even Number Pyramid Pattern"
   ]
  },
  {
   "cell_type": "code",
   "execution_count": 31,
   "metadata": {},
   "outputs": [
    {
     "ename": "SyntaxError",
     "evalue": "EOL while scanning string literal (<ipython-input-31-5f37200d5294>, line 12)",
     "output_type": "error",
     "traceback": [
      "\u001b[1;36m  File \u001b[1;32m\"<ipython-input-31-5f37200d5294>\"\u001b[1;36m, line \u001b[1;32m12\u001b[0m\n\u001b[1;33m    print('', end=\")\u001b[0m\n\u001b[1;37m                    ^\u001b[0m\n\u001b[1;31mSyntaxError\u001b[0m\u001b[1;31m:\u001b[0m EOL while scanning string literal\n"
     ]
    }
   ],
   "source": [
    "#Connected Inverted Pyramid Pattern of Numbers\n",
    "rows = 6\n",
    "\n",
    "for i in range(0, rows):\n",
    "\n",
    "    for j in range(rows-1, i, -1):\n",
    "\n",
    "        print(j, \", end=\")\n",
    "\n",
    "    for l in range(i):\n",
    "\n",
    "        print('', end=\")\n",
    "\n",
    "    for k in range(i + 1, rows):\n",
    "\n",
    "        print(k, \", end=\")\n",
    "\n",
    "    print('\\n')"
   ]
  },
  {
   "cell_type": "code",
   "execution_count": 27,
   "metadata": {},
   "outputs": [
    {
     "name": "stdout",
     "output_type": "stream",
     "text": [
      "\n",
      "1\n",
      "121\n",
      "12321\n",
      "1234321\n",
      "123454321\n"
     ]
    }
   ],
   "source": [
    "#Unique Pyramid Pattern of Digits\n",
    "rows = 6\n",
    "\n",
    "for i in range(1, rows + 1):\n",
    "\n",
    "    for j in range(1, i-1):\n",
    "\n",
    "        print(j, end=\"\")\n",
    "\n",
    "    for j in range(i-1, 0, -1):\n",
    "\n",
    "        print(j, end=\"\")\n",
    "\n",
    "    print()"
   ]
  },
  {
   "cell_type": "code",
   "execution_count": 24,
   "metadata": {},
   "outputs": [
    {
     "name": "stdout",
     "output_type": "stream",
     "text": [
      "1\n",
      "32\n",
      "654\n",
      "10987\n"
     ]
    }
   ],
   "source": [
    "#Reverse Pattern of Digits from 10 \n",
    "start = 1\n",
    "\n",
    "stop = 2\n",
    "\n",
    "currentNumber = stop\n",
    "\n",
    "for row in range(2, 6):\n",
    "\n",
    "    for col in range(start, stop):\n",
    "\n",
    "        currentNumber -= 1\n",
    "\n",
    "        print(currentNumber, end='')\n",
    "\n",
    "    print(\"\")\n",
    "\n",
    "    start = stop\n",
    "\n",
    "    stop += row\n",
    "\n",
    "    currentNumber = stop"
   ]
  },
  {
   "cell_type": "code",
   "execution_count": 23,
   "metadata": {},
   "outputs": [
    {
     "name": "stdout",
     "output_type": "stream",
     "text": [
      "1\n",
      "234\n",
      "56789\n"
     ]
    }
   ],
   "source": [
    "#Pyramid of Natural Numbers Less Than 10\n",
    "currentNumber = 1\n",
    "\n",
    "stop = 2\n",
    "\n",
    "rows = 3 # Rows you want in your pattern\n",
    "\n",
    "for i in range(rows):\n",
    "\n",
    "    for column in range(1, stop):\n",
    "\n",
    "        print(currentNumber, end='')\n",
    "\n",
    "        currentNumber += 1\n",
    "\n",
    "    print(\"\")\n",
    "\n",
    "    stop += 2"
   ]
  },
  {
   "cell_type": "code",
   "execution_count": 22,
   "metadata": {},
   "outputs": [
    {
     "name": "stdout",
     "output_type": "stream",
     "text": [
      "012345\n",
      "01234\n",
      "0123\n",
      "012\n",
      "01\n"
     ]
    }
   ],
   "source": [
    "#Inverted Half Pyramid Number Pattern\n",
    "rows = 5\n",
    "\n",
    "for i in range(rows, 0, -1):\n",
    "\n",
    "    for j in range(0, i + 1):\n",
    "\n",
    "        print(j, end='')\n",
    "\n",
    "    print(\"\\r\")"
   ]
  },
  {
   "cell_type": "code",
   "execution_count": 20,
   "metadata": {},
   "outputs": [
    {
     "name": "stdout",
     "output_type": "stream",
     "text": [
      "1\n",
      "21\n",
      "321\n",
      "4321\n",
      "54321\n"
     ]
    }
   ],
   "source": [
    "#Reverse Pyramid of Numbers\n",
    "rows = 6\n",
    "\n",
    "for row in range(1, rows):\n",
    "\n",
    "    for column in range(row, 0, -1):\n",
    "\n",
    "        print(column, end='')\n",
    "\n",
    "    print(\"\")"
   ]
  },
  {
   "cell_type": "code",
   "execution_count": 19,
   "metadata": {},
   "outputs": [
    {
     "name": "stdout",
     "output_type": "stream",
     "text": [
      "\n",
      "1\n",
      "22\n",
      "333\n",
      "4444\n",
      "55555\n"
     ]
    }
   ],
   "source": [
    "#Simple Number Triangle Pattern\n",
    "rows = 6\n",
    "\n",
    "for num in range(rows):\n",
    "\n",
    "    for i in range(num):\n",
    "\n",
    "        print(num, end=\"\") # print number\n",
    "\n",
    "    # line after each row to display pattern correctly\n",
    "\n",
    "    print(\"\")"
   ]
  },
  {
   "cell_type": "code",
   "execution_count": 18,
   "metadata": {},
   "outputs": [
    {
     "name": "stdout",
     "output_type": "stream",
     "text": [
      "11111\n",
      "2222\n",
      "333\n",
      "44\n",
      "5\n"
     ]
    }
   ],
   "source": [
    "#Inverted Pyramid of Numbers\n",
    "rows = 5\n",
    "\n",
    "b = 0\n",
    "\n",
    "for i in range(rows, 0, -1):\n",
    "\n",
    "    b += 1\n",
    "\n",
    "    for j in range(1, i + 1):\n",
    "\n",
    "        print(b, end='')\n",
    "\n",
    "    print('\\r')"
   ]
  },
  {
   "cell_type": "code",
   "execution_count": 17,
   "metadata": {},
   "outputs": [
    {
     "name": "stdout",
     "output_type": "stream",
     "text": [
      "1\n",
      "12\n",
      "123\n",
      "1234\n",
      "12345\n"
     ]
    }
   ],
   "source": [
    "#Half Pyramid Pattern of Numbers\n",
    "rows = 5\n",
    "\n",
    "for row in range(1, rows+1):\n",
    "\n",
    "    for column in range(1, row + 1):\n",
    "\n",
    "        print(column, end='')\n",
    "\n",
    "    print(\"\")"
   ]
  },
  {
   "cell_type": "code",
   "execution_count": 16,
   "metadata": {},
   "outputs": [
    {
     "name": "stdout",
     "output_type": "stream",
     "text": [
      "55555\n",
      "4444\n",
      "333\n",
      "22\n",
      "1\n"
     ]
    }
   ],
   "source": [
    "#Inverted Pyramid of Descending Numbers\n",
    "rows = 5\n",
    "\n",
    "for i in range(rows, 0, -1):\n",
    "\n",
    "    num = i\n",
    "\n",
    "    for j in range(0, i):\n",
    "\n",
    "        print(num, end='')\n",
    "\n",
    "    print(\"\\r\")"
   ]
  },
  {
   "cell_type": "code",
   "execution_count": 15,
   "metadata": {},
   "outputs": [
    {
     "name": "stdout",
     "output_type": "stream",
     "text": [
      "55555\n",
      "5555\n",
      "555\n",
      "55\n",
      "5\n"
     ]
    }
   ],
   "source": [
    "#nverted Pyramid of the Same Digit\n",
    "rows = 5\n",
    "\n",
    "num = rows\n",
    "\n",
    "for i in range(rows, 0, -1):\n",
    "\n",
    "    for j in range(0, i):\n",
    "\n",
    "        print(num, end='')\n",
    "\n",
    "    print(\"\\r\")"
   ]
  },
  {
   "cell_type": "code",
   "execution_count": 14,
   "metadata": {},
   "outputs": [
    {
     "ename": "IndentationError",
     "evalue": "expected an indented block (<ipython-input-14-54339d445b2d>, line 3)",
     "output_type": "error",
     "traceback": [
      "\u001b[1;36m  File \u001b[1;32m\"<ipython-input-14-54339d445b2d>\"\u001b[1;36m, line \u001b[1;32m3\u001b[0m\n\u001b[1;33m    if\u001b[0m\n\u001b[1;37m    ^\u001b[0m\n\u001b[1;31mIndentationError\u001b[0m\u001b[1;31m:\u001b[0m expected an indented block\n"
     ]
    }
   ],
   "source": [
    "for row in range(7):\n",
    "    for cal in range(5):\n",
    "    if\n",
    "        print(\"*\",end=\" \")\n",
    "        else:\n",
    "                print(end=\" \")\n",
    "    print()"
   ]
  },
  {
   "cell_type": "code",
   "execution_count": 16,
   "metadata": {},
   "outputs": [
    {
     "name": "stdout",
     "output_type": "stream",
     "text": [
      "* \n",
      "* * \n",
      "* * * \n",
      "* * * * \n",
      "* * * * * \n"
     ]
    }
   ],
   "source": [
    "# Python 3.x code to demonstrate star pattern\n",
    "\n",
    "# Function to demonstrate printing pattern\n",
    "def pypart(n):\n",
    "\t\n",
    "\t# outer loop to handle number of rows\n",
    "\t# n in this case\n",
    "\tfor i in range(0, n):\n",
    "\t\n",
    "\t\t# inner loop to handle number of columns\n",
    "\t\t# values changing acc. to outer loop\n",
    "\t\tfor j in range(0, i+1):\n",
    "\t\t\n",
    "\t\t\t# printing stars\n",
    "\t\t\tprint(\"* \",end=\"\")\n",
    "\t\n",
    "\t\t# ending line after each row\n",
    "\t\tprint(\"\\r\")\n",
    "\n",
    "# Driver Code\n",
    "n = 5\n",
    "pypart(n)\n",
    "#Simple pyramid pattern "
   ]
  },
  {
   "cell_type": "code",
   "execution_count": 17,
   "metadata": {},
   "outputs": [
    {
     "name": "stdout",
     "output_type": "stream",
     "text": [
      "*\n",
      "**\n",
      "***\n",
      "****\n",
      "*****\n"
     ]
    }
   ],
   "source": [
    "# Python 3.x code to demonstrate star pattern\n",
    "\n",
    "# Function to demonstrate printing pattern\n",
    "def pypart(n):\n",
    "\tmyList = []\n",
    "\tfor i in range(1,n+1):\n",
    "\t\tmyList.append(\"*\"*i)\n",
    "\tprint(\"\\n\".join(myList))\n",
    "\n",
    "# Driver Code\n",
    "n = 5\n",
    "pypart(n)\n"
   ]
  },
  {
   "cell_type": "code",
   "execution_count": 18,
   "metadata": {},
   "outputs": [
    {
     "name": "stdout",
     "output_type": "stream",
     "text": [
      "        * \n",
      "      * * \n",
      "    * * * \n",
      "  * * * * \n",
      "* * * * * \n"
     ]
    }
   ],
   "source": [
    "# Python 3.x code to demonstrate star pattern\n",
    "\n",
    "# Function to demonstrate printing pattern\n",
    "def pypart2(n):\n",
    "\t\n",
    "\t# number of spaces\n",
    "\tk = 2*n - 2\n",
    "\n",
    "\t# outer loop to handle number of rows\n",
    "\tfor i in range(0, n):\n",
    "\t\n",
    "\t\t# inner loop to handle number spaces\n",
    "\t\t# values changing acc. to requirement\n",
    "\t\tfor j in range(0, k):\n",
    "\t\t\tprint(end=\" \")\n",
    "\t\n",
    "\t\t# decrementing k after each loop\n",
    "\t\tk = k - 2\n",
    "\t\n",
    "\t\t# inner loop to handle number of columns\n",
    "\t\t# values changing acc. to outer loop\n",
    "\t\tfor j in range(0, i+1):\n",
    "\t\t\n",
    "\t\t\t# printing stars\n",
    "\t\t\tprint(\"* \", end=\"\")\n",
    "\t\n",
    "\t\t# ending line after each row\n",
    "\t\tprint(\"\\r\")\n",
    "\n",
    "# Driver Code\n",
    "n = 5\n",
    "pypart2(n)\n"
   ]
  },
  {
   "cell_type": "code",
   "execution_count": 20,
   "metadata": {},
   "outputs": [
    {
     "name": "stdout",
     "output_type": "stream",
     "text": [
      "    * \n",
      "   * * \n",
      "  * * * \n",
      " * * * * \n",
      "* * * * * \n"
     ]
    }
   ],
   "source": [
    "# Python 3.x code to demonstrate star pattern\n",
    "\n",
    "# Function to demonstrate printing pattern triangle\n",
    "def triangle(n):\n",
    "\t\n",
    "\t# number of spaces\n",
    "\tk = n - 1\n",
    "\n",
    "\t# outer loop to handle number of rows\n",
    "\tfor i in range(0, n):\n",
    "\t\n",
    "\t\t# inner loop to handle number spaces\n",
    "\t\t# values changing acc. to requirement\n",
    "\t\tfor j in range(0, k):\n",
    "\t\t\tprint(end=\" \")\n",
    "\t\n",
    "\t\t# decrementing k after each loop\n",
    "\t\tk = k - 1\n",
    "\t\n",
    "\t\t# inner loop to handle number of columns\n",
    "\t\t# values changing acc. to outer loop\n",
    "\t\tfor j in range(0, i+1):\n",
    "\t\t\n",
    "\t\t\t# printing stars\n",
    "\t\t\tprint(\"* \", end=\"\")\n",
    "\t\n",
    "\t\t# ending line after each row\n",
    "\t\tprint(\"\\r\")\n",
    "\n",
    "# Driver Code\n",
    "n = 5\n",
    "triangle(n)\n",
    "#printing triangle"
   ]
  },
  {
   "cell_type": "code",
   "execution_count": 22,
   "metadata": {},
   "outputs": [
    {
     "name": "stdout",
     "output_type": "stream",
     "text": [
      "1 \n",
      "1 2 \n",
      "1 2 3 \n",
      "1 2 3 4 \n",
      "1 2 3 4 5 \n"
     ]
    }
   ],
   "source": [
    "# Python 3.x code to demonstrate star pattern\n",
    "\n",
    "# Function to demonstrate printing pattern of numbers\n",
    "def numpat(n):\n",
    "\t\n",
    "\t# initialising starting number\n",
    "\tnum = 1\n",
    "\n",
    "\t# outer loop to handle number of rows\n",
    "\tfor i in range(0, n):\n",
    "\t\n",
    "\t\t# re assigning num\n",
    "\t\tnum = 1\n",
    "\t\n",
    "\t\t# inner loop to handle number of columns\n",
    "\t\t\t# values changing acc. to outer loop\n",
    "\t\tfor j in range(0, i+1):\n",
    "\t\t\n",
    "\t\t\t\t# printing number\n",
    "\t\t\tprint(num, end=\" \")\n",
    "\t\t\n",
    "\t\t\t# incrementing number at each column\n",
    "\t\t\tnum = num + 1\n",
    "\t\n",
    "\t\t# ending line after each row\n",
    "\t\tprint(\"\\r\")\n",
    "\n",
    "# Driver code\n",
    "n = 5\n",
    "numpat(n)#Number pattern\n"
   ]
  },
  {
   "cell_type": "code",
   "execution_count": 24,
   "metadata": {},
   "outputs": [
    {
     "name": "stdout",
     "output_type": "stream",
     "text": [
      "1 \n",
      "2 3 \n",
      "4 5 6 \n",
      "7 8 9 10 \n",
      "11 12 13 14 15 \n"
     ]
    }
   ],
   "source": [
    "# Python 3.x code to demonstrate star pattern\n",
    "\n",
    "# Function to demonstrate printing pattern of numbers\n",
    "def contnum(n):\n",
    "\t\n",
    "\t# initializing starting number\n",
    "\tnum = 1\n",
    "\n",
    "\t# outer loop to handle number of rows\n",
    "\tfor i in range(0, n):\n",
    "\t\n",
    "\t\t# not re assigning num\n",
    "\t\t# num = 1\n",
    "\t\n",
    "\t\t# inner loop to handle number of columns\n",
    "\t\t# values changing acc. to outer loop\n",
    "\t\tfor j in range(0, i+1):\n",
    "\t\t\n",
    "\t\t\t# printing number\n",
    "\t\t\tprint(num, end=\" \")\n",
    "\t\t\n",
    "\t\t\t# incrementing number at each column\n",
    "\t\t\tnum = num + 1\n",
    "\t\n",
    "\t\t# ending line after each row\n",
    "\t\tprint(\"\\r\")\n",
    "\n",
    "n = 5\n",
    "\n",
    "# sending 5 as argument\n",
    "# calling Function\n",
    "contnum(n)#Numbers without reassigning\n"
   ]
  },
  {
   "cell_type": "code",
   "execution_count": 25,
   "metadata": {},
   "outputs": [
    {
     "name": "stdout",
     "output_type": "stream",
     "text": [
      "A \n",
      "B B \n",
      "C C C \n",
      "D D D D \n",
      "E E E E E \n"
     ]
    }
   ],
   "source": [
    "#Character Pattern\n",
    "# Python 3.x code to demonstrate star pattern\n",
    "\n",
    "# Function to demonstrate printing pattern of alphabets\n",
    "def alphapat(n):\n",
    "\t\n",
    "\t# initializing value corresponding to 'A'\n",
    "\t# ASCII value\n",
    "\tnum = 65\n",
    "\n",
    "\t# outer loop to handle number of rows\n",
    "\t# 5 in this case\n",
    "\tfor i in range(0, n):\n",
    "\t\n",
    "\t\t# inner loop to handle number of columns\n",
    "\t\t# values changing acc. to outer loop\n",
    "\t\tfor j in range(0, i+1):\n",
    "\t\t\n",
    "\t\t\t# explicitely converting to char\n",
    "\t\t\tch = chr(num)\n",
    "\t\t\n",
    "\t\t\t# printing char value\n",
    "\t\t\tprint(ch, end=\" \")\n",
    "\t\n",
    "\t\t# incrementing number\n",
    "\t\tnum = num + 1\n",
    "\t\n",
    "\t\t# ending line after each row\n",
    "\t\tprint(\"\\r\")\n",
    "\n",
    "# Driver Code\n",
    "n = 5\n",
    "alphapat(n)\n"
   ]
  },
  {
   "cell_type": "code",
   "execution_count": 33,
   "metadata": {},
   "outputs": [
    {
     "ename": "NameError",
     "evalue": "name 'num' is not defined",
     "output_type": "error",
     "traceback": [
      "\u001b[1;31m---------------------------------------------------------------------------\u001b[0m",
      "\u001b[1;31mNameError\u001b[0m                                 Traceback (most recent call last)",
      "\u001b[1;32m<ipython-input-33-24c22382c3c9>\u001b[0m in \u001b[0;36m<module>\u001b[1;34m\u001b[0m\n\u001b[0;32m     16\u001b[0m \u001b[1;33m\u001b[0m\u001b[0m\n\u001b[0;32m     17\u001b[0m                         \u001b[1;31m# explicitely converting to char\u001b[0m\u001b[1;33m\u001b[0m\u001b[1;33m\u001b[0m\u001b[1;33m\u001b[0m\u001b[0m\n\u001b[1;32m---> 18\u001b[1;33m                         \u001b[0mch\u001b[0m \u001b[1;33m=\u001b[0m \u001b[0mchr\u001b[0m\u001b[1;33m(\u001b[0m\u001b[0mnum\u001b[0m\u001b[1;33m)\u001b[0m\u001b[1;33m\u001b[0m\u001b[1;33m\u001b[0m\u001b[0m\n\u001b[0m\u001b[0;32m     19\u001b[0m \u001b[1;33m\u001b[0m\u001b[0m\n\u001b[0;32m     20\u001b[0m                         \u001b[1;31m# printing char value\u001b[0m\u001b[1;33m\u001b[0m\u001b[1;33m\u001b[0m\u001b[1;33m\u001b[0m\u001b[0m\n",
      "\u001b[1;31mNameError\u001b[0m: name 'num' is not defined"
     ]
    }
   ],
   "source": [
    "# Python code 3.x to demonstrate star pattern\n",
    "\n",
    "# Function to demonstrate printing pattern of alphabets\n",
    "def contalpha(n):\n",
    "\t\n",
    "\t# initializing value corresponding to 'A'\n",
    "\t# ASCII value\n",
    "\tnum = 65\n",
    "\n",
    "\t# outer loop to handle number of rows\n",
    "for i in range(0, n):\n",
    "\t\n",
    "\t\t# inner loop to handle number of columns\n",
    "\t\t# values changing acc. to outer loop\n",
    "\t\tfor j in range(0, i+1):\n",
    "\t\t\n",
    "\t\t\t# explicitely converting to char\n",
    "\t\t\tch = chr(num)\n",
    "\t\t\n",
    "\t\t\t# printing char value\n",
    "\t\t\tprint(ch, end=\" \")\n",
    "\t\t\n",
    "\t\t\t# incrementing at each column\n",
    "\t\t\tnum = num +1\n",
    "\t\n",
    "\t\n",
    "\t\t# ending line after each row\n",
    "\t\tprint(\"\\r\")\n",
    "\n",
    "# Driver code\n",
    "n = 5\n",
    "contalpha(n)\n",
    "\n",
    "#Continuous Character pattern"
   ]
  },
  {
   "cell_type": "code",
   "execution_count": 34,
   "metadata": {},
   "outputs": [
    {
     "name": "stdout",
     "output_type": "stream",
     "text": [
      "* \n",
      "* * \n",
      "* * * \n",
      "* * * * \n",
      "* * * * * \n"
     ]
    }
   ],
   "source": [
    "#Simple pyramid pattern\n",
    "# Python 3.x code to demonstrate star pattern\n",
    "\n",
    "# Function to demonstrate printing pattern\n",
    "def pypart(n):\n",
    "\t\n",
    "\t# outer loop to handle number of rows\n",
    "\t# n in this case\n",
    "\tfor i in range(0, n):\n",
    "\t\n",
    "\t\t# inner loop to handle number of columns\n",
    "\t\t# values changing acc. to outer loop\n",
    "\t\tfor j in range(0, i+1):\n",
    "\t\t\n",
    "\t\t\t# printing stars\n",
    "\t\t\tprint(\"* \",end=\"\")\n",
    "\t\n",
    "\t\t# ending line after each row\n",
    "\t\tprint(\"\\r\")\n",
    "\n",
    "# Driver Code\n",
    "n = 5\n",
    "pypart(n)\n"
   ]
  },
  {
   "cell_type": "code",
   "execution_count": 35,
   "metadata": {},
   "outputs": [
    {
     "name": "stdout",
     "output_type": "stream",
     "text": [
      "        * \n",
      "      * * \n",
      "    * * * \n",
      "  * * * * \n",
      "* * * * * \n"
     ]
    }
   ],
   "source": [
    "# Python 3.x code to demonstrate star pattern\n",
    "\n",
    "# Function to demonstrate printing pattern\n",
    "def pypart2(n):\n",
    "\t\n",
    "\t# number of spaces\n",
    "\tk = 2*n - 2\n",
    "\n",
    "\t# outer loop to handle number of rows\n",
    "\tfor i in range(0, n):\n",
    "\t\n",
    "\t\t# inner loop to handle number spaces\n",
    "\t\t# values changing acc. to requirement\n",
    "\t\tfor j in range(0, k):\n",
    "\t\t\tprint(end=\" \")\n",
    "\t\n",
    "\t\t# decrementing k after each loop\n",
    "\t\tk = k - 2\n",
    "\t\n",
    "\t\t# inner loop to handle number of columns\n",
    "\t\t# values changing acc. to outer loop\n",
    "\t\tfor j in range(0, i+1):\n",
    "\t\t\n",
    "\t\t\t# printing stars\n",
    "\t\t\tprint(\"* \", end=\"\")\n",
    "\t\n",
    "\t\t# ending line after each row\n",
    "\t\tprint(\"\\r\")\n",
    "\n",
    "# Driver Code\n",
    "n = 5\n",
    "pypart2(n)\n",
    "#After 180 degree rotation "
   ]
  },
  {
   "cell_type": "code",
   "execution_count": 36,
   "metadata": {},
   "outputs": [
    {
     "name": "stdout",
     "output_type": "stream",
     "text": [
      "    * \n",
      "   * * \n",
      "  * * * \n",
      " * * * * \n",
      "* * * * * \n"
     ]
    }
   ],
   "source": [
    "#printing Triangle\n",
    "# Python 3.x code to demonstrate star pattern\n",
    "\n",
    "# Function to demonstrate printing pattern triangle\n",
    "def triangle(n):\n",
    "\t\n",
    "\t# number of spaces\n",
    "\tk = n - 1\n",
    "\n",
    "\t# outer loop to handle number of rows\n",
    "\tfor i in range(0, n):\n",
    "\t\n",
    "\t\t# inner loop to handle number spaces\n",
    "\t\t# values changing acc. to requirement\n",
    "\t\tfor j in range(0, k):\n",
    "\t\t\tprint(end=\" \")\n",
    "\t\n",
    "\t\t# decrementing k after each loop\n",
    "\t\tk = k - 1\n",
    "\t\n",
    "\t\t# inner loop to handle number of columns\n",
    "\t\t# values changing acc. to outer loop\n",
    "\t\tfor j in range(0, i+1):\n",
    "\t\t\n",
    "\t\t\t# printing stars\n",
    "\t\t\tprint(\"* \", end=\"\")\n",
    "\t\n",
    "\t\t# ending line after each row\n",
    "\t\tprint(\"\\r\")\n",
    "\n",
    "# Driver Code\n",
    "n = 5\n",
    "triangle(n)\n"
   ]
  },
  {
   "cell_type": "code",
   "execution_count": 37,
   "metadata": {},
   "outputs": [
    {
     "name": "stdout",
     "output_type": "stream",
     "text": [
      "1 \n",
      "1 2 \n",
      "1 2 3 \n",
      "1 2 3 4 \n",
      "1 2 3 4 5 \n"
     ]
    }
   ],
   "source": [
    "#Number Pattern\n",
    "# Python 3.x code to demonstrate star pattern\n",
    "\n",
    "# Function to demonstrate printing pattern of numbers\n",
    "def numpat(n):\n",
    "\t\n",
    "\t# initialising starting number\n",
    "\tnum = 1\n",
    "\n",
    "\t# outer loop to handle number of rows\n",
    "\tfor i in range(0, n):\n",
    "\t\n",
    "\t\t# re assigning num\n",
    "\t\tnum = 1\n",
    "\t\n",
    "\t\t# inner loop to handle number of columns\n",
    "\t\t\t# values changing acc. to outer loop\n",
    "\t\tfor j in range(0, i+1):\n",
    "\t\t\n",
    "\t\t\t\t# printing number\n",
    "\t\t\tprint(num, end=\" \")\n",
    "\t\t\n",
    "\t\t\t# incrementing number at each column\n",
    "\t\t\tnum = num + 1\n",
    "\t\n",
    "\t\t# ending line after each row\n",
    "\t\tprint(\"\\r\")\n",
    "\n",
    "# Driver code\n",
    "n = 5\n",
    "numpat(n)\n"
   ]
  },
  {
   "cell_type": "code",
   "execution_count": 38,
   "metadata": {},
   "outputs": [
    {
     "name": "stdout",
     "output_type": "stream",
     "text": [
      "1 \n",
      "2 3 \n",
      "4 5 6 \n",
      "7 8 9 10 \n",
      "11 12 13 14 15 \n"
     ]
    }
   ],
   "source": [
    "#Numbers without re assinging\n",
    "# Python 3.x code to demonstrate star pattern\n",
    "\n",
    "# Function to demonstrate printing pattern of numbers\n",
    "def contnum(n):\n",
    "\t\n",
    "\t# initializing starting number\n",
    "\tnum = 1\n",
    "\n",
    "\t# outer loop to handle number of rows\n",
    "\tfor i in range(0, n):\n",
    "\t\n",
    "\t\t# not re assigning num\n",
    "\t\t# num = 1\n",
    "\t\n",
    "\t\t# inner loop to handle number of columns\n",
    "\t\t# values changing acc. to outer loop\n",
    "\t\tfor j in range(0, i+1):\n",
    "\t\t\n",
    "\t\t\t# printing number\n",
    "\t\t\tprint(num, end=\" \")\n",
    "\t\t\n",
    "\t\t\t# incrementing number at each column\n",
    "\t\t\tnum = num + 1\n",
    "\t\n",
    "\t\t# ending line after each row\n",
    "\t\tprint(\"\\r\")\n",
    "\n",
    "n = 5\n",
    "\n",
    "# sending 5 as argument\n",
    "# calling Function\n",
    "contnum(n)\n"
   ]
  },
  {
   "cell_type": "code",
   "execution_count": 39,
   "metadata": {},
   "outputs": [
    {
     "name": "stdout",
     "output_type": "stream",
     "text": [
      "A \n",
      "B B \n",
      "C C C \n",
      "D D D D \n",
      "E E E E E \n"
     ]
    }
   ],
   "source": [
    "#Character pattern\n",
    "# Python 3.x code to demonstrate star pattern\n",
    "\n",
    "# Function to demonstrate printing pattern of alphabets\n",
    "def alphapat(n):\n",
    "\t\n",
    "\t# initializing value corresponding to 'A'\n",
    "\t# ASCII value\n",
    "\tnum = 65\n",
    "\n",
    "\t# outer loop to handle number of rows\n",
    "\t# 5 in this case\n",
    "\tfor i in range(0, n):\n",
    "\t\n",
    "\t\t# inner loop to handle number of columns\n",
    "\t\t# values changing acc. to outer loop\n",
    "\t\tfor j in range(0, i+1):\n",
    "\t\t\n",
    "\t\t\t# explicitely converting to char\n",
    "\t\t\tch = chr(num)\n",
    "\t\t\n",
    "\t\t\t# printing char value\n",
    "\t\t\tprint(ch, end=\" \")\n",
    "\t\n",
    "\t\t# incrementing number\n",
    "\t\tnum = num + 1\n",
    "\t\n",
    "\t\t# ending line after each row\n",
    "\t\tprint(\"\\r\")\n",
    "\n",
    "# Driver Code\n",
    "n = 5\n",
    "alphapat(n)\n"
   ]
  },
  {
   "cell_type": "code",
   "execution_count": 1,
   "metadata": {},
   "outputs": [
    {
     "ename": "SyntaxError",
     "evalue": "invalid syntax (<ipython-input-1-734c022ae771>, line 11)",
     "output_type": "error",
     "traceback": [
      "\u001b[1;36m  File \u001b[1;32m\"<ipython-input-1-734c022ae771>\"\u001b[1;36m, line \u001b[1;32m11\u001b[0m\n\u001b[1;33m    - for i in range(0, n):\u001b[0m\n\u001b[1;37m      ^\u001b[0m\n\u001b[1;31mSyntaxError\u001b[0m\u001b[1;31m:\u001b[0m invalid syntax\n"
     ]
    }
   ],
   "source": [
    "# Python code 3.x to demonstrate star pattern\n",
    "\n",
    "# Function to demonstrate printing pattern of alphabets\n",
    "def contalpha(n):\n",
    "\t\n",
    "\t# initializing value corresponding to 'A'\n",
    "\t# ASCII value\n",
    "\tnum = 65\n",
    "\n",
    "\t# outer loop to handle number of rows\n",
    "- for i in range(0, n):\n",
    "\t\n",
    "\t\t# inner loop to handle number of columns\n",
    "\t\t# values changing acc. to outer loop\n",
    "\t\tfor j in range(0, i+1):\n",
    "\t\t\n",
    "\t\t\t# explicitely converting to char\n",
    "\t\t\tch = chr(num)\n",
    "\t\t\n",
    "\t\t\t# printing char value\n",
    "\t\t\tprint(ch, end=\" \")\n",
    "\t\t\n",
    "\t\t\t# incrementing at each column\n",
    "\t\t\tnum = num +1\n",
    "\t\n",
    "\t\n",
    "\t\t# ending line after each row\n",
    "\t\tprint(\"\\r\")\n",
    "\n",
    "# Driver code\n",
    "n = 5\n",
    "contalpha(n)\n"
   ]
  },
  {
   "cell_type": "code",
   "execution_count": 2,
   "metadata": {},
   "outputs": [],
   "source": [
    "def pyramid(rows):\n",
    "    for i in range(rows):\n",
    "        print(''*(rows-i-1)+'*'*(i+1))\n",
    "    for j in range(rows-1,0,-1):\n",
    "        print(''*(rows-j)+'*'*(j))"
   ]
  },
  {
   "cell_type": "code",
   "execution_count": 3,
   "metadata": {},
   "outputs": [
    {
     "name": "stdin",
     "output_type": "stream",
     "text": [
      "please enter diamond's height: 6\n"
     ]
    },
    {
     "name": "stdout",
     "output_type": "stream",
     "text": [
      "       *\n",
      "      ***\n",
      "     *****\n",
      "    *******\n",
      "   *********\n",
      "  ***********\n",
      "   *********\n",
      "    *******\n",
      "     *****\n",
      "      ***\n",
      "       *\n"
     ]
    }
   ],
   "source": [
    "h = eval(input(\"please enter diamond's height:\"))\n",
    "\n",
    "for i in range(h):\n",
    "    print(\" \"*(h-i), \"*\"*(i*2+1))\n",
    "for i in range(h-2, -1, -1):\n",
    "    print(\" \"*(h-i), \"*\"*(i*2+1))"
   ]
  },
  {
   "cell_type": "code",
   "execution_count": 4,
   "metadata": {},
   "outputs": [
    {
     "name": "stdout",
     "output_type": "stream",
     "text": [
      "    *\n",
      "   ***\n",
      "  *****\n",
      " *******\n",
      "*********\n",
      " *******\n",
      "  *****\n",
      "   ***\n",
      "    *\n"
     ]
    }
   ],
   "source": [
    "# Python program to\n",
    "# print Diamond shape\n",
    "\n",
    "# Function to print\n",
    "# Diamond shape\n",
    "def Diamond(rows):\n",
    "\tn = 0\n",
    "\tfor i in range(1, rows + 1):\n",
    "\t\t# loop to print spaces\n",
    "\t\tfor j in range (1, (rows - i) + 1):\n",
    "\t\t\tprint(end = \" \")\n",
    "\t\t\n",
    "\t\t# loop to print star\n",
    "\t\twhile n != (2 * i - 1):\n",
    "\t\t\tprint(\"*\", end = \"\")\n",
    "\t\t\tn = n + 1\n",
    "\t\tn = 0\n",
    "\t\t\n",
    "\t\t# line break\n",
    "\t\tprint()\n",
    "\n",
    "\tk = 1\n",
    "\tn = 1\n",
    "\tfor i in range(1, rows):\n",
    "\t\t# loop to print spaces\n",
    "\t\tfor j in range (1, k + 1):\n",
    "\t\t\tprint(end = \" \")\n",
    "\t\tk = k + 1\n",
    "\t\t\n",
    "\t\t# loop to print star\n",
    "\t\twhile n <= (2 * (rows - i) - 1):\n",
    "\t\t\tprint(\"*\", end = \"\")\n",
    "\t\t\tn = n + 1\n",
    "\t\tn = 1\n",
    "\t\tprint()\n",
    "\n",
    "# Driver Code\n",
    "# number of rows input\n",
    "rows = 5\n",
    "Diamond(rows)\n"
   ]
  },
  {
   "cell_type": "code",
   "execution_count": 8,
   "metadata": {},
   "outputs": [
    {
     "name": "stdout",
     "output_type": "stream",
     "text": [
      "        * \n",
      "      * * \n",
      "    * * * \n",
      "  * * * * \n",
      "* * * * * \n",
      "  * * * * \n",
      "    * * * \n",
      "      * * \n",
      "        * \n"
     ]
    }
   ],
   "source": [
    "def pattern(n):\n",
    "    k = 2 * n - 2\n",
    "    for i in range(0, n-1):\n",
    "        for j in range(0, k):\n",
    "            print(end=\" \")\n",
    "        k = k - 2\n",
    "        for j in range(0, i + 1):\n",
    "            print(\"* \", end=\"\")\n",
    "        print(\"\\r\")\n",
    "    k = -1\n",
    "    for i in range(n-1,-1,-1):\n",
    "        for j in range(k,-1,-1):\n",
    "            print(end=\" \")\n",
    "        k = k + 2\n",
    "        for j in range(0, i + 1):\n",
    "            print(\"* \", end=\"\")\n",
    "        print(\"\\r\")\n",
    " \n",
    " \n",
    "pattern(5) #technical test"
   ]
  },
  {
   "cell_type": "code",
   "execution_count": null,
   "metadata": {},
   "outputs": [],
   "source": []
  }
 ],
 "metadata": {
  "kernelspec": {
   "display_name": "Python 3",
   "language": "python",
   "name": "python3"
  },
  "language_info": {
   "codemirror_mode": {
    "name": "ipython",
    "version": 3
   },
   "file_extension": ".py",
   "mimetype": "text/x-python",
   "name": "python",
   "nbconvert_exporter": "python",
   "pygments_lexer": "ipython3",
   "version": "3.8.5"
  }
 },
 "nbformat": 4,
 "nbformat_minor": 4
}
